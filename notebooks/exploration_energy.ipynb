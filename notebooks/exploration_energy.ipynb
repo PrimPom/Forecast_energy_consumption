{
 "cells": [
  {
   "cell_type": "code",
   "execution_count": 67,
   "id": "279ef4ba-baa2-41b1-a642-446330b23edd",
   "metadata": {},
   "outputs": [
    {
     "name": "stdout",
     "output_type": "stream",
     "text": [
      "Requirement already satisfied: pandas in c:\\users\\primp\\anaconda3\\envs\\drift\\lib\\site-packages (2.1.4)\n",
      "Requirement already satisfied: numpy<2,>=1.23.2 in c:\\users\\primp\\anaconda3\\envs\\drift\\lib\\site-packages (from pandas) (1.26.2)\n",
      "Requirement already satisfied: python-dateutil>=2.8.2 in c:\\users\\primp\\anaconda3\\envs\\drift\\lib\\site-packages (from pandas) (2.8.2)\n",
      "Requirement already satisfied: pytz>=2020.1 in c:\\users\\primp\\anaconda3\\envs\\drift\\lib\\site-packages (from pandas) (2023.3.post1)\n",
      "Requirement already satisfied: tzdata>=2022.1 in c:\\users\\primp\\anaconda3\\envs\\drift\\lib\\site-packages (from pandas) (2023.4)\n",
      "Requirement already satisfied: six>=1.5 in c:\\users\\primp\\anaconda3\\envs\\drift\\lib\\site-packages (from python-dateutil>=2.8.2->pandas) (1.16.0)\n",
      "Requirement already satisfied: prophet in c:\\users\\primp\\anaconda3\\envs\\drift\\lib\\site-packages (1.1.5)\n",
      "Requirement already satisfied: cmdstanpy>=1.0.4 in c:\\users\\primp\\anaconda3\\envs\\drift\\lib\\site-packages (from prophet) (1.2.1)\n",
      "Requirement already satisfied: numpy>=1.15.4 in c:\\users\\primp\\anaconda3\\envs\\drift\\lib\\site-packages (from prophet) (1.26.2)\n",
      "Requirement already satisfied: matplotlib>=2.0.0 in c:\\users\\primp\\anaconda3\\envs\\drift\\lib\\site-packages (from prophet) (3.8.2)\n",
      "Requirement already satisfied: pandas>=1.0.4 in c:\\users\\primp\\anaconda3\\envs\\drift\\lib\\site-packages (from prophet) (2.1.4)\n",
      "Requirement already satisfied: holidays>=0.25 in c:\\users\\primp\\anaconda3\\envs\\drift\\lib\\site-packages (from prophet) (0.44)\n",
      "Requirement already satisfied: tqdm>=4.36.1 in c:\\users\\primp\\anaconda3\\envs\\drift\\lib\\site-packages (from prophet) (4.66.1)\n",
      "Requirement already satisfied: importlib-resources in c:\\users\\primp\\anaconda3\\envs\\drift\\lib\\site-packages (from prophet) (6.1.3)\n",
      "Requirement already satisfied: stanio~=0.3.0 in c:\\users\\primp\\anaconda3\\envs\\drift\\lib\\site-packages (from cmdstanpy>=1.0.4->prophet) (0.3.0)\n",
      "Requirement already satisfied: python-dateutil in c:\\users\\primp\\anaconda3\\envs\\drift\\lib\\site-packages (from holidays>=0.25->prophet) (2.8.2)\n",
      "Requirement already satisfied: contourpy>=1.0.1 in c:\\users\\primp\\anaconda3\\envs\\drift\\lib\\site-packages (from matplotlib>=2.0.0->prophet) (1.2.0)\n",
      "Requirement already satisfied: cycler>=0.10 in c:\\users\\primp\\anaconda3\\envs\\drift\\lib\\site-packages (from matplotlib>=2.0.0->prophet) (0.12.1)\n",
      "Requirement already satisfied: fonttools>=4.22.0 in c:\\users\\primp\\anaconda3\\envs\\drift\\lib\\site-packages (from matplotlib>=2.0.0->prophet) (4.47.0)\n",
      "Requirement already satisfied: kiwisolver>=1.3.1 in c:\\users\\primp\\anaconda3\\envs\\drift\\lib\\site-packages (from matplotlib>=2.0.0->prophet) (1.4.5)\n",
      "Requirement already satisfied: packaging>=20.0 in c:\\users\\primp\\anaconda3\\envs\\drift\\lib\\site-packages (from matplotlib>=2.0.0->prophet) (23.1)\n",
      "Requirement already satisfied: pillow>=8 in c:\\users\\primp\\anaconda3\\envs\\drift\\lib\\site-packages (from matplotlib>=2.0.0->prophet) (10.1.0)\n",
      "Requirement already satisfied: pyparsing>=2.3.1 in c:\\users\\primp\\anaconda3\\envs\\drift\\lib\\site-packages (from matplotlib>=2.0.0->prophet) (3.1.1)\n",
      "Requirement already satisfied: pytz>=2020.1 in c:\\users\\primp\\anaconda3\\envs\\drift\\lib\\site-packages (from pandas>=1.0.4->prophet) (2023.3.post1)\n",
      "Requirement already satisfied: tzdata>=2022.1 in c:\\users\\primp\\anaconda3\\envs\\drift\\lib\\site-packages (from pandas>=1.0.4->prophet) (2023.4)\n",
      "Requirement already satisfied: colorama in c:\\users\\primp\\anaconda3\\envs\\drift\\lib\\site-packages (from tqdm>=4.36.1->prophet) (0.4.6)\n",
      "Requirement already satisfied: six>=1.5 in c:\\users\\primp\\anaconda3\\envs\\drift\\lib\\site-packages (from python-dateutil->holidays>=0.25->prophet) (1.16.0)\n"
     ]
    }
   ],
   "source": [
    "\"\"\"INSTALLATION DE PANDAS ET DE PROPHET\"\"\"\n",
    "!pip install pandas\n",
    "!pip install prophet"
   ]
  },
  {
   "cell_type": "code",
   "execution_count": 68,
   "id": "fa0ac71d-301e-4bea-aa8e-5d9eb3c0a600",
   "metadata": {},
   "outputs": [
    {
     "name": "stdout",
     "output_type": "stream",
     "text": [
      "<class 'pandas.core.frame.DataFrame'>\n",
      "RangeIndex: 49 entries, 0 to 48\n",
      "Data columns (total 7 columns):\n",
      " #   Column                    Non-Null Count  Dtype \n",
      "---  ------                    --------------  ----- \n",
      " 0   Contrat                   49 non-null     int64 \n",
      " 1   Tarif                     49 non-null     object\n",
      " 2   Date                      49 non-null     object\n",
      " 3   kWh                       49 non-null     object\n",
      " 4   Code de consommation      49 non-null     object\n",
      " 5   Température moyenne (°C)  49 non-null     int64 \n",
      " 6   Code de température       49 non-null     object\n",
      "dtypes: int64(2), object(5)\n",
      "memory usage: 2.8+ KB\n"
     ]
    }
   ],
   "source": [
    "import pandas as pd\n",
    "dataset_path = 'jour_2024-01-09_au_2024-02-26.csv'\n",
    "energy_dataset= pd.read_csv(dataset_path, sep=';',  encoding='latin1')\n",
    "energy_dataset.info()"
   ]
  },
  {
   "cell_type": "code",
   "execution_count": 69,
   "id": "54f646f3-834f-41d1-8df1-6fc80427acbd",
   "metadata": {},
   "outputs": [
    {
     "data": {
      "text/html": [
       "<div>\n",
       "<style scoped>\n",
       "    .dataframe tbody tr th:only-of-type {\n",
       "        vertical-align: middle;\n",
       "    }\n",
       "\n",
       "    .dataframe tbody tr th {\n",
       "        vertical-align: top;\n",
       "    }\n",
       "\n",
       "    .dataframe thead th {\n",
       "        text-align: right;\n",
       "    }\n",
       "</style>\n",
       "<table border=\"1\" class=\"dataframe\">\n",
       "  <thead>\n",
       "    <tr style=\"text-align: right;\">\n",
       "      <th></th>\n",
       "      <th>Contrat</th>\n",
       "      <th>Tarif</th>\n",
       "      <th>Date</th>\n",
       "      <th>kWh</th>\n",
       "      <th>Code de consommation</th>\n",
       "      <th>Température moyenne (°C)</th>\n",
       "      <th>Code de température</th>\n",
       "    </tr>\n",
       "  </thead>\n",
       "  <tbody>\n",
       "    <tr>\n",
       "      <th>0</th>\n",
       "      <td>316198211</td>\n",
       "      <td>D</td>\n",
       "      <td>2024-02-26</td>\n",
       "      <td>26,05</td>\n",
       "      <td>R</td>\n",
       "      <td>2</td>\n",
       "      <td>R</td>\n",
       "    </tr>\n",
       "    <tr>\n",
       "      <th>1</th>\n",
       "      <td>316198211</td>\n",
       "      <td>D</td>\n",
       "      <td>2024-02-25</td>\n",
       "      <td>32,04</td>\n",
       "      <td>R</td>\n",
       "      <td>-4</td>\n",
       "      <td>R</td>\n",
       "    </tr>\n",
       "    <tr>\n",
       "      <th>2</th>\n",
       "      <td>316198211</td>\n",
       "      <td>D</td>\n",
       "      <td>2024-02-24</td>\n",
       "      <td>33,65</td>\n",
       "      <td>R</td>\n",
       "      <td>-12</td>\n",
       "      <td>R</td>\n",
       "    </tr>\n",
       "    <tr>\n",
       "      <th>3</th>\n",
       "      <td>316198211</td>\n",
       "      <td>D</td>\n",
       "      <td>2024-02-23</td>\n",
       "      <td>24,39</td>\n",
       "      <td>R</td>\n",
       "      <td>1</td>\n",
       "      <td>R</td>\n",
       "    </tr>\n",
       "    <tr>\n",
       "      <th>4</th>\n",
       "      <td>316198211</td>\n",
       "      <td>D</td>\n",
       "      <td>2024-02-22</td>\n",
       "      <td>25,56</td>\n",
       "      <td>R</td>\n",
       "      <td>2</td>\n",
       "      <td>R</td>\n",
       "    </tr>\n",
       "  </tbody>\n",
       "</table>\n",
       "</div>"
      ],
      "text/plain": [
       "     Contrat Tarif        Date    kWh Code de consommation  \\\n",
       "0  316198211     D  2024-02-26  26,05                    R   \n",
       "1  316198211     D  2024-02-25  32,04                    R   \n",
       "2  316198211     D  2024-02-24  33,65                    R   \n",
       "3  316198211     D  2024-02-23  24,39                    R   \n",
       "4  316198211     D  2024-02-22  25,56                    R   \n",
       "\n",
       "   Température moyenne (°C) Code de température  \n",
       "0                         2                   R  \n",
       "1                        -4                   R  \n",
       "2                       -12                   R  \n",
       "3                         1                   R  \n",
       "4                         2                   R  "
      ]
     },
     "execution_count": 69,
     "metadata": {},
     "output_type": "execute_result"
    }
   ],
   "source": [
    "energy_dataset.head()"
   ]
  },
  {
   "cell_type": "code",
   "execution_count": 70,
   "id": "c7d4388b-4088-449a-ae29-3c8425db21e4",
   "metadata": {},
   "outputs": [],
   "source": [
    "#Supprimer les lignes contenant NaN\n",
    "energy_dataset = energy_dataset.dropna(axis=0, how='any')"
   ]
  },
  {
   "cell_type": "code",
   "execution_count": 71,
   "id": "6bb71763-b4a7-4954-a7cb-5e59e5e4c4ab",
   "metadata": {},
   "outputs": [],
   "source": [
    "energy_dataset = energy_dataset.drop(columns = ['Contrat', 'Tarif', 'Code de consommation', 'Température moyenne (°C)', 'Code de température'], axis=1)"
   ]
  },
  {
   "cell_type": "code",
   "execution_count": 72,
   "id": "90afef66-fcaf-4801-bbbf-14b070822c69",
   "metadata": {},
   "outputs": [
    {
     "name": "stdout",
     "output_type": "stream",
     "text": [
      "<class 'pandas.core.frame.DataFrame'>\n",
      "RangeIndex: 49 entries, 0 to 48\n",
      "Data columns (total 2 columns):\n",
      " #   Column  Non-Null Count  Dtype \n",
      "---  ------  --------------  ----- \n",
      " 0   Date    49 non-null     object\n",
      " 1   kWh     49 non-null     object\n",
      "dtypes: object(2)\n",
      "memory usage: 916.0+ bytes\n"
     ]
    }
   ],
   "source": [
    "energy_dataset.info()"
   ]
  },
  {
   "cell_type": "code",
   "execution_count": 73,
   "id": "74bb0698-fa89-45d3-9fb2-118a4b316e1b",
   "metadata": {},
   "outputs": [],
   "source": [
    "energy_dataset['Date'] = pd.to_datetime(energy_dataset['Date'])\n",
    "energy_dataset['kWh'] = energy_dataset['kWh'].str.replace(',', '.').astype('float64')"
   ]
  },
  {
   "cell_type": "code",
   "execution_count": 74,
   "id": "ba11a65d-e81d-4664-81c1-bd1b84b35462",
   "metadata": {},
   "outputs": [
    {
     "name": "stdout",
     "output_type": "stream",
     "text": [
      "<class 'pandas.core.frame.DataFrame'>\n",
      "RangeIndex: 49 entries, 0 to 48\n",
      "Data columns (total 2 columns):\n",
      " #   Column  Non-Null Count  Dtype         \n",
      "---  ------  --------------  -----         \n",
      " 0   Date    49 non-null     datetime64[ns]\n",
      " 1   kWh     49 non-null     float64       \n",
      "dtypes: datetime64[ns](1), float64(1)\n",
      "memory usage: 916.0 bytes\n"
     ]
    }
   ],
   "source": [
    "energy_dataset.info()"
   ]
  },
  {
   "cell_type": "code",
   "execution_count": 75,
   "id": "cc85f655-3af2-4686-9922-dd428f72b8ba",
   "metadata": {},
   "outputs": [
    {
     "data": {
      "text/html": [
       "<div>\n",
       "<style scoped>\n",
       "    .dataframe tbody tr th:only-of-type {\n",
       "        vertical-align: middle;\n",
       "    }\n",
       "\n",
       "    .dataframe tbody tr th {\n",
       "        vertical-align: top;\n",
       "    }\n",
       "\n",
       "    .dataframe thead th {\n",
       "        text-align: right;\n",
       "    }\n",
       "</style>\n",
       "<table border=\"1\" class=\"dataframe\">\n",
       "  <thead>\n",
       "    <tr style=\"text-align: right;\">\n",
       "      <th></th>\n",
       "      <th>Date</th>\n",
       "      <th>kWh</th>\n",
       "    </tr>\n",
       "  </thead>\n",
       "  <tbody>\n",
       "    <tr>\n",
       "      <th>0</th>\n",
       "      <td>2024-02-26</td>\n",
       "      <td>26.05</td>\n",
       "    </tr>\n",
       "    <tr>\n",
       "      <th>1</th>\n",
       "      <td>2024-02-25</td>\n",
       "      <td>32.04</td>\n",
       "    </tr>\n",
       "    <tr>\n",
       "      <th>2</th>\n",
       "      <td>2024-02-24</td>\n",
       "      <td>33.65</td>\n",
       "    </tr>\n",
       "    <tr>\n",
       "      <th>3</th>\n",
       "      <td>2024-02-23</td>\n",
       "      <td>24.39</td>\n",
       "    </tr>\n",
       "    <tr>\n",
       "      <th>4</th>\n",
       "      <td>2024-02-22</td>\n",
       "      <td>25.56</td>\n",
       "    </tr>\n",
       "  </tbody>\n",
       "</table>\n",
       "</div>"
      ],
      "text/plain": [
       "        Date    kWh\n",
       "0 2024-02-26  26.05\n",
       "1 2024-02-25  32.04\n",
       "2 2024-02-24  33.65\n",
       "3 2024-02-23  24.39\n",
       "4 2024-02-22  25.56"
      ]
     },
     "execution_count": 75,
     "metadata": {},
     "output_type": "execute_result"
    }
   ],
   "source": [
    "energy_dataset.head()"
   ]
  },
  {
   "cell_type": "code",
   "execution_count": 76,
   "id": "60467381-d6d4-4505-95a1-d76254981967",
   "metadata": {},
   "outputs": [
    {
     "data": {
      "text/html": [
       "<div>\n",
       "<style scoped>\n",
       "    .dataframe tbody tr th:only-of-type {\n",
       "        vertical-align: middle;\n",
       "    }\n",
       "\n",
       "    .dataframe tbody tr th {\n",
       "        vertical-align: top;\n",
       "    }\n",
       "\n",
       "    .dataframe thead th {\n",
       "        text-align: right;\n",
       "    }\n",
       "</style>\n",
       "<table border=\"1\" class=\"dataframe\">\n",
       "  <thead>\n",
       "    <tr style=\"text-align: right;\">\n",
       "      <th></th>\n",
       "      <th>Date</th>\n",
       "      <th>kWh</th>\n",
       "    </tr>\n",
       "  </thead>\n",
       "  <tbody>\n",
       "    <tr>\n",
       "      <th>44</th>\n",
       "      <td>2024-01-13</td>\n",
       "      <td>30.41</td>\n",
       "    </tr>\n",
       "    <tr>\n",
       "      <th>45</th>\n",
       "      <td>2024-01-12</td>\n",
       "      <td>32.27</td>\n",
       "    </tr>\n",
       "    <tr>\n",
       "      <th>46</th>\n",
       "      <td>2024-01-11</td>\n",
       "      <td>34.38</td>\n",
       "    </tr>\n",
       "    <tr>\n",
       "      <th>47</th>\n",
       "      <td>2024-01-10</td>\n",
       "      <td>27.86</td>\n",
       "    </tr>\n",
       "    <tr>\n",
       "      <th>48</th>\n",
       "      <td>2024-01-09</td>\n",
       "      <td>31.70</td>\n",
       "    </tr>\n",
       "  </tbody>\n",
       "</table>\n",
       "</div>"
      ],
      "text/plain": [
       "         Date    kWh\n",
       "44 2024-01-13  30.41\n",
       "45 2024-01-12  32.27\n",
       "46 2024-01-11  34.38\n",
       "47 2024-01-10  27.86\n",
       "48 2024-01-09  31.70"
      ]
     },
     "execution_count": 76,
     "metadata": {},
     "output_type": "execute_result"
    }
   ],
   "source": [
    "energy_dataset.tail()"
   ]
  },
  {
   "cell_type": "code",
   "execution_count": 77,
   "id": "60bc94c2-0b36-4724-8890-0c9230c10696",
   "metadata": {},
   "outputs": [
    {
     "data": {
      "text/html": [
       "<div>\n",
       "<style scoped>\n",
       "    .dataframe tbody tr th:only-of-type {\n",
       "        vertical-align: middle;\n",
       "    }\n",
       "\n",
       "    .dataframe tbody tr th {\n",
       "        vertical-align: top;\n",
       "    }\n",
       "\n",
       "    .dataframe thead th {\n",
       "        text-align: right;\n",
       "    }\n",
       "</style>\n",
       "<table border=\"1\" class=\"dataframe\">\n",
       "  <thead>\n",
       "    <tr style=\"text-align: right;\">\n",
       "      <th></th>\n",
       "      <th>Date</th>\n",
       "      <th>kWh</th>\n",
       "    </tr>\n",
       "  </thead>\n",
       "  <tbody>\n",
       "    <tr>\n",
       "      <th>44</th>\n",
       "      <td>2024-02-22</td>\n",
       "      <td>25.56</td>\n",
       "    </tr>\n",
       "    <tr>\n",
       "      <th>45</th>\n",
       "      <td>2024-02-23</td>\n",
       "      <td>24.39</td>\n",
       "    </tr>\n",
       "    <tr>\n",
       "      <th>46</th>\n",
       "      <td>2024-02-24</td>\n",
       "      <td>33.65</td>\n",
       "    </tr>\n",
       "    <tr>\n",
       "      <th>47</th>\n",
       "      <td>2024-02-25</td>\n",
       "      <td>32.04</td>\n",
       "    </tr>\n",
       "    <tr>\n",
       "      <th>48</th>\n",
       "      <td>2024-02-26</td>\n",
       "      <td>26.05</td>\n",
       "    </tr>\n",
       "  </tbody>\n",
       "</table>\n",
       "</div>"
      ],
      "text/plain": [
       "         Date    kWh\n",
       "44 2024-02-22  25.56\n",
       "45 2024-02-23  24.39\n",
       "46 2024-02-24  33.65\n",
       "47 2024-02-25  32.04\n",
       "48 2024-02-26  26.05"
      ]
     },
     "execution_count": 77,
     "metadata": {},
     "output_type": "execute_result"
    }
   ],
   "source": [
    "energy_dataset = energy_dataset.loc[::-1].reset_index(drop=True)\n",
    "energy_dataset.tail()"
   ]
  },
  {
   "cell_type": "code",
   "execution_count": 78,
   "id": "f1868d35-037b-4fc1-b7cd-bfdfafeb37bb",
   "metadata": {},
   "outputs": [],
   "source": [
    "from prophet import Prophet"
   ]
  },
  {
   "cell_type": "code",
   "execution_count": 85,
   "id": "d2137fed-d59c-42bb-adec-5e5e21b17556",
   "metadata": {},
   "outputs": [
    {
     "name": "stderr",
     "output_type": "stream",
     "text": [
      "00:35:56 - cmdstanpy - INFO - Chain [1] start processing\n",
      "00:35:56 - cmdstanpy - INFO - Chain [1] done processing\n"
     ]
    },
    {
     "data": {
      "text/plain": [
       "<prophet.forecaster.Prophet at 0x2b71e29e990>"
      ]
     },
     "execution_count": 85,
     "metadata": {},
     "output_type": "execute_result"
    }
   ],
   "source": [
    "m = Prophet()\n",
    "energy_dataset.columns = ['ds', 'y']\n",
    "m.fit(energy_dataset.iloc[:40])"
   ]
  },
  {
   "cell_type": "code",
   "execution_count": 87,
   "id": "6f06486c-46bf-4d88-a952-6a24a35cd09e",
   "metadata": {},
   "outputs": [
    {
     "data": {
      "text/html": [
       "<div>\n",
       "<style scoped>\n",
       "    .dataframe tbody tr th:only-of-type {\n",
       "        vertical-align: middle;\n",
       "    }\n",
       "\n",
       "    .dataframe tbody tr th {\n",
       "        vertical-align: top;\n",
       "    }\n",
       "\n",
       "    .dataframe thead th {\n",
       "        text-align: right;\n",
       "    }\n",
       "</style>\n",
       "<table border=\"1\" class=\"dataframe\">\n",
       "  <thead>\n",
       "    <tr style=\"text-align: right;\">\n",
       "      <th></th>\n",
       "      <th>ds</th>\n",
       "    </tr>\n",
       "  </thead>\n",
       "  <tbody>\n",
       "    <tr>\n",
       "      <th>40</th>\n",
       "      <td>2024-02-18</td>\n",
       "    </tr>\n",
       "    <tr>\n",
       "      <th>41</th>\n",
       "      <td>2024-02-19</td>\n",
       "    </tr>\n",
       "    <tr>\n",
       "      <th>42</th>\n",
       "      <td>2024-02-20</td>\n",
       "    </tr>\n",
       "    <tr>\n",
       "      <th>43</th>\n",
       "      <td>2024-02-21</td>\n",
       "    </tr>\n",
       "    <tr>\n",
       "      <th>44</th>\n",
       "      <td>2024-02-22</td>\n",
       "    </tr>\n",
       "    <tr>\n",
       "      <th>45</th>\n",
       "      <td>2024-02-23</td>\n",
       "    </tr>\n",
       "    <tr>\n",
       "      <th>46</th>\n",
       "      <td>2024-02-24</td>\n",
       "    </tr>\n",
       "    <tr>\n",
       "      <th>47</th>\n",
       "      <td>2024-02-25</td>\n",
       "    </tr>\n",
       "    <tr>\n",
       "      <th>48</th>\n",
       "      <td>2024-02-26</td>\n",
       "    </tr>\n",
       "    <tr>\n",
       "      <th>49</th>\n",
       "      <td>2024-02-27</td>\n",
       "    </tr>\n",
       "  </tbody>\n",
       "</table>\n",
       "</div>"
      ],
      "text/plain": [
       "           ds\n",
       "40 2024-02-18\n",
       "41 2024-02-19\n",
       "42 2024-02-20\n",
       "43 2024-02-21\n",
       "44 2024-02-22\n",
       "45 2024-02-23\n",
       "46 2024-02-24\n",
       "47 2024-02-25\n",
       "48 2024-02-26\n",
       "49 2024-02-27"
      ]
     },
     "execution_count": 87,
     "metadata": {},
     "output_type": "execute_result"
    }
   ],
   "source": [
    "future_consumption_date = m.make_future_dataframe(periods=10)\n",
    "future_consumption_date.tail(10)"
   ]
  },
  {
   "cell_type": "code",
   "execution_count": 88,
   "id": "f43cfc24-d858-468b-a5e9-57b655b02b89",
   "metadata": {},
   "outputs": [
    {
     "data": {
      "text/html": [
       "<div>\n",
       "<style scoped>\n",
       "    .dataframe tbody tr th:only-of-type {\n",
       "        vertical-align: middle;\n",
       "    }\n",
       "\n",
       "    .dataframe tbody tr th {\n",
       "        vertical-align: top;\n",
       "    }\n",
       "\n",
       "    .dataframe thead th {\n",
       "        text-align: right;\n",
       "    }\n",
       "</style>\n",
       "<table border=\"1\" class=\"dataframe\">\n",
       "  <thead>\n",
       "    <tr style=\"text-align: right;\">\n",
       "      <th></th>\n",
       "      <th>ds</th>\n",
       "      <th>yhat</th>\n",
       "      <th>yhat_lower</th>\n",
       "      <th>yhat_upper</th>\n",
       "    </tr>\n",
       "  </thead>\n",
       "  <tbody>\n",
       "    <tr>\n",
       "      <th>40</th>\n",
       "      <td>2024-02-18</td>\n",
       "      <td>30.921682</td>\n",
       "      <td>24.495220</td>\n",
       "      <td>37.072397</td>\n",
       "    </tr>\n",
       "    <tr>\n",
       "      <th>41</th>\n",
       "      <td>2024-02-19</td>\n",
       "      <td>29.568747</td>\n",
       "      <td>22.896409</td>\n",
       "      <td>36.413277</td>\n",
       "    </tr>\n",
       "    <tr>\n",
       "      <th>42</th>\n",
       "      <td>2024-02-20</td>\n",
       "      <td>26.996999</td>\n",
       "      <td>19.983588</td>\n",
       "      <td>33.073704</td>\n",
       "    </tr>\n",
       "    <tr>\n",
       "      <th>43</th>\n",
       "      <td>2024-02-21</td>\n",
       "      <td>28.927083</td>\n",
       "      <td>22.722821</td>\n",
       "      <td>36.085641</td>\n",
       "    </tr>\n",
       "    <tr>\n",
       "      <th>44</th>\n",
       "      <td>2024-02-22</td>\n",
       "      <td>27.767817</td>\n",
       "      <td>21.263754</td>\n",
       "      <td>34.441821</td>\n",
       "    </tr>\n",
       "    <tr>\n",
       "      <th>45</th>\n",
       "      <td>2024-02-23</td>\n",
       "      <td>26.200085</td>\n",
       "      <td>19.614094</td>\n",
       "      <td>33.063638</td>\n",
       "    </tr>\n",
       "    <tr>\n",
       "      <th>46</th>\n",
       "      <td>2024-02-24</td>\n",
       "      <td>27.308172</td>\n",
       "      <td>20.567739</td>\n",
       "      <td>34.891867</td>\n",
       "    </tr>\n",
       "    <tr>\n",
       "      <th>47</th>\n",
       "      <td>2024-02-25</td>\n",
       "      <td>29.987653</td>\n",
       "      <td>23.037094</td>\n",
       "      <td>36.975431</td>\n",
       "    </tr>\n",
       "    <tr>\n",
       "      <th>48</th>\n",
       "      <td>2024-02-26</td>\n",
       "      <td>28.634718</td>\n",
       "      <td>22.162983</td>\n",
       "      <td>35.081760</td>\n",
       "    </tr>\n",
       "    <tr>\n",
       "      <th>49</th>\n",
       "      <td>2024-02-27</td>\n",
       "      <td>26.062969</td>\n",
       "      <td>19.782696</td>\n",
       "      <td>33.093504</td>\n",
       "    </tr>\n",
       "  </tbody>\n",
       "</table>\n",
       "</div>"
      ],
      "text/plain": [
       "           ds       yhat  yhat_lower  yhat_upper\n",
       "40 2024-02-18  30.921682   24.495220   37.072397\n",
       "41 2024-02-19  29.568747   22.896409   36.413277\n",
       "42 2024-02-20  26.996999   19.983588   33.073704\n",
       "43 2024-02-21  28.927083   22.722821   36.085641\n",
       "44 2024-02-22  27.767817   21.263754   34.441821\n",
       "45 2024-02-23  26.200085   19.614094   33.063638\n",
       "46 2024-02-24  27.308172   20.567739   34.891867\n",
       "47 2024-02-25  29.987653   23.037094   36.975431\n",
       "48 2024-02-26  28.634718   22.162983   35.081760\n",
       "49 2024-02-27  26.062969   19.782696   33.093504"
      ]
     },
     "execution_count": 88,
     "metadata": {},
     "output_type": "execute_result"
    }
   ],
   "source": [
    "forecast = m.predict(future_consumption_date)\n",
    "forecast[['ds', 'yhat', 'yhat_lower', 'yhat_upper']].tail(10)"
   ]
  },
  {
   "cell_type": "code",
   "execution_count": null,
   "id": "c74b9c75-3b0d-4e13-b618-30e278d8e089",
   "metadata": {},
   "outputs": [],
   "source": []
  }
 ],
 "metadata": {
  "kernelspec": {
   "display_name": "Python 3 (ipykernel)",
   "language": "python",
   "name": "python3"
  },
  "language_info": {
   "codemirror_mode": {
    "name": "ipython",
    "version": 3
   },
   "file_extension": ".py",
   "mimetype": "text/x-python",
   "name": "python",
   "nbconvert_exporter": "python",
   "pygments_lexer": "ipython3",
   "version": "3.11.5"
  }
 },
 "nbformat": 4,
 "nbformat_minor": 5
}
